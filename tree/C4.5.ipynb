{
 "cells": [
  {
   "cell_type": "markdown",
   "metadata": {},
   "source": [
    "晴,炎热,高,弱,取消\n",
    "晴,炎热,高,强,取消\n",
    "晴,炎热,高,弱,进行\n",
    "雨,适中,高,弱,进行\n",
    "雨,寒冷,正常,弱,进行\n",
    "雨,寒冷,正常,强,取消\n",
    "阴,寒冷,正常,强,进行\n",
    "晴,适中,高,弱,取消\n",
    "晴,寒冷,正常,弱,进行\n",
    "雨,适中,正常,弱,进行\n",
    "晴,适中,正常,强,进行\n",
    "阴,适中,高,强,进行\n",
    "阴,炎热,正常,弱,进行\n",
    "雨,适中,高,强,取消$"
   ]
  },
  {
   "cell_type": "code",
   "execution_count": 46,
   "metadata": {},
   "outputs": [],
   "source": [
    "import pandas as pd \n",
    "import numpy as np"
   ]
  },
  {
   "cell_type": "code",
   "execution_count": 47,
   "metadata": {},
   "outputs": [],
   "source": [
    "l = [\"晴,炎热,高,弱,取消\",\n",
    "\"晴,炎热,高,强,取消\",\n",
    "\"阴,炎热,高,弱,进行\",\n",
    "\"雨,适中,高,弱,进行\",\n",
    "\"雨,寒冷,正常,弱,进行\",\n",
    "\"雨,寒冷,正常,强,取消\",\n",
    "\"阴,寒冷,正常,强,进行\",\n",
    "\"晴,适中,高,弱,取消\",\n",
    "\"晴,寒冷,正常,弱,进行\",\n",
    "\"雨,适中,正常,弱,进行\",\n",
    "\"晴,适中,正常,强,进行\",\n",
    "\"阴,适中,高,强,进行\",\n",
    "\"阴,炎热,正常,弱,进行\",\n",
    "\"雨,适中,高,强,取消\"]"
   ]
  },
  {
   "cell_type": "code",
   "execution_count": 48,
   "metadata": {},
   "outputs": [],
   "source": [
    "name=[\"天气\",\"温度\",\"湿度\",\"风速\",\"活动\"]\n",
    "data = pd.DataFrame([i.split(\",\") for i in l ],columns=name)"
   ]
  },
  {
   "cell_type": "code",
   "execution_count": 49,
   "metadata": {},
   "outputs": [
    {
     "data": {
      "text/html": [
       "<div>\n",
       "<style scoped>\n",
       "    .dataframe tbody tr th:only-of-type {\n",
       "        vertical-align: middle;\n",
       "    }\n",
       "\n",
       "    .dataframe tbody tr th {\n",
       "        vertical-align: top;\n",
       "    }\n",
       "\n",
       "    .dataframe thead th {\n",
       "        text-align: right;\n",
       "    }\n",
       "</style>\n",
       "<table border=\"1\" class=\"dataframe\">\n",
       "  <thead>\n",
       "    <tr style=\"text-align: right;\">\n",
       "      <th></th>\n",
       "      <th>天气</th>\n",
       "      <th>温度</th>\n",
       "      <th>湿度</th>\n",
       "      <th>风速</th>\n",
       "      <th>活动</th>\n",
       "    </tr>\n",
       "  </thead>\n",
       "  <tbody>\n",
       "    <tr>\n",
       "      <th>0</th>\n",
       "      <td>晴</td>\n",
       "      <td>炎热</td>\n",
       "      <td>高</td>\n",
       "      <td>弱</td>\n",
       "      <td>取消</td>\n",
       "    </tr>\n",
       "    <tr>\n",
       "      <th>1</th>\n",
       "      <td>晴</td>\n",
       "      <td>炎热</td>\n",
       "      <td>高</td>\n",
       "      <td>强</td>\n",
       "      <td>取消</td>\n",
       "    </tr>\n",
       "    <tr>\n",
       "      <th>2</th>\n",
       "      <td>阴</td>\n",
       "      <td>炎热</td>\n",
       "      <td>高</td>\n",
       "      <td>弱</td>\n",
       "      <td>进行</td>\n",
       "    </tr>\n",
       "    <tr>\n",
       "      <th>3</th>\n",
       "      <td>雨</td>\n",
       "      <td>适中</td>\n",
       "      <td>高</td>\n",
       "      <td>弱</td>\n",
       "      <td>进行</td>\n",
       "    </tr>\n",
       "    <tr>\n",
       "      <th>4</th>\n",
       "      <td>雨</td>\n",
       "      <td>寒冷</td>\n",
       "      <td>正常</td>\n",
       "      <td>弱</td>\n",
       "      <td>进行</td>\n",
       "    </tr>\n",
       "    <tr>\n",
       "      <th>5</th>\n",
       "      <td>雨</td>\n",
       "      <td>寒冷</td>\n",
       "      <td>正常</td>\n",
       "      <td>强</td>\n",
       "      <td>取消</td>\n",
       "    </tr>\n",
       "    <tr>\n",
       "      <th>6</th>\n",
       "      <td>阴</td>\n",
       "      <td>寒冷</td>\n",
       "      <td>正常</td>\n",
       "      <td>强</td>\n",
       "      <td>进行</td>\n",
       "    </tr>\n",
       "    <tr>\n",
       "      <th>7</th>\n",
       "      <td>晴</td>\n",
       "      <td>适中</td>\n",
       "      <td>高</td>\n",
       "      <td>弱</td>\n",
       "      <td>取消</td>\n",
       "    </tr>\n",
       "    <tr>\n",
       "      <th>8</th>\n",
       "      <td>晴</td>\n",
       "      <td>寒冷</td>\n",
       "      <td>正常</td>\n",
       "      <td>弱</td>\n",
       "      <td>进行</td>\n",
       "    </tr>\n",
       "    <tr>\n",
       "      <th>9</th>\n",
       "      <td>雨</td>\n",
       "      <td>适中</td>\n",
       "      <td>正常</td>\n",
       "      <td>弱</td>\n",
       "      <td>进行</td>\n",
       "    </tr>\n",
       "    <tr>\n",
       "      <th>10</th>\n",
       "      <td>晴</td>\n",
       "      <td>适中</td>\n",
       "      <td>正常</td>\n",
       "      <td>强</td>\n",
       "      <td>进行</td>\n",
       "    </tr>\n",
       "    <tr>\n",
       "      <th>11</th>\n",
       "      <td>阴</td>\n",
       "      <td>适中</td>\n",
       "      <td>高</td>\n",
       "      <td>强</td>\n",
       "      <td>进行</td>\n",
       "    </tr>\n",
       "    <tr>\n",
       "      <th>12</th>\n",
       "      <td>阴</td>\n",
       "      <td>炎热</td>\n",
       "      <td>正常</td>\n",
       "      <td>弱</td>\n",
       "      <td>进行</td>\n",
       "    </tr>\n",
       "    <tr>\n",
       "      <th>13</th>\n",
       "      <td>雨</td>\n",
       "      <td>适中</td>\n",
       "      <td>高</td>\n",
       "      <td>强</td>\n",
       "      <td>取消</td>\n",
       "    </tr>\n",
       "  </tbody>\n",
       "</table>\n",
       "</div>"
      ],
      "text/plain": [
       "   天气  温度  湿度 风速  活动\n",
       "0   晴  炎热   高  弱  取消\n",
       "1   晴  炎热   高  强  取消\n",
       "2   阴  炎热   高  弱  进行\n",
       "3   雨  适中   高  弱  进行\n",
       "4   雨  寒冷  正常  弱  进行\n",
       "5   雨  寒冷  正常  强  取消\n",
       "6   阴  寒冷  正常  强  进行\n",
       "7   晴  适中   高  弱  取消\n",
       "8   晴  寒冷  正常  弱  进行\n",
       "9   雨  适中  正常  弱  进行\n",
       "10  晴  适中  正常  强  进行\n",
       "11  阴  适中   高  强  进行\n",
       "12  阴  炎热  正常  弱  进行\n",
       "13  雨  适中   高  强  取消"
      ]
     },
     "execution_count": 49,
     "metadata": {},
     "output_type": "execute_result"
    }
   ],
   "source": [
    "data"
   ]
  },
  {
   "cell_type": "markdown",
   "metadata": {},
   "source": [
    "上面的训练集有4个属性,分别为[\"天气\",\"温度\",\"湿度\",\"风速\"] 而标签有2个"
   ]
  },
  {
   "cell_type": "markdown",
   "metadata": {},
   "source": [
    "其中包含14个训练样本"
   ]
  },
  {
   "cell_type": "code",
   "execution_count": 50,
   "metadata": {},
   "outputs": [
    {
     "data": {
      "text/plain": [
       "活动\n",
       "取消    5\n",
       "进行    9\n",
       "dtype: int64"
      ]
     },
     "execution_count": 50,
     "metadata": {},
     "output_type": "execute_result"
    }
   ],
   "source": [
    "data.groupby([\"活动\"]).size()"
   ]
  },
  {
   "cell_type": "code",
   "execution_count": 51,
   "metadata": {},
   "outputs": [
    {
     "data": {
      "text/plain": [
       "天气  活动\n",
       "晴   取消    3\n",
       "    进行    2\n",
       "阴   进行    4\n",
       "雨   取消    2\n",
       "    进行    3\n",
       "dtype: int64"
      ]
     },
     "execution_count": 51,
     "metadata": {},
     "output_type": "execute_result"
    }
   ],
   "source": [
    "data.groupby([\"天气\",\"活动\"]).size()"
   ]
  },
  {
   "cell_type": "code",
   "execution_count": 55,
   "metadata": {},
   "outputs": [
    {
     "data": {
      "text/plain": [
       "温度  活动\n",
       "寒冷  取消    1\n",
       "    进行    3\n",
       "炎热  取消    2\n",
       "    进行    2\n",
       "适中  取消    2\n",
       "    进行    4\n",
       "dtype: int64"
      ]
     },
     "execution_count": 55,
     "metadata": {},
     "output_type": "execute_result"
    }
   ],
   "source": [
    "data.groupby([\"温度\",\"活动\"]).size()"
   ]
  },
  {
   "cell_type": "code",
   "execution_count": 56,
   "metadata": {},
   "outputs": [
    {
     "data": {
      "text/plain": [
       "湿度  活动\n",
       "正常  取消    1\n",
       "    进行    6\n",
       "高   取消    4\n",
       "    进行    3\n",
       "dtype: int64"
      ]
     },
     "execution_count": 56,
     "metadata": {},
     "output_type": "execute_result"
    }
   ],
   "source": [
    "data.groupby([\"湿度\",\"活动\"]).size()"
   ]
  },
  {
   "cell_type": "code",
   "execution_count": 58,
   "metadata": {},
   "outputs": [
    {
     "data": {
      "text/plain": [
       "风速  活动\n",
       "弱   取消    2\n",
       "    进行    6\n",
       "强   取消    3\n",
       "    进行    3\n",
       "dtype: int64"
      ]
     },
     "execution_count": 58,
     "metadata": {},
     "output_type": "execute_result"
    }
   ],
   "source": [
    "data.groupby([\"风速\",\"活动\"]).size()"
   ]
  },
  {
   "cell_type": "markdown",
   "metadata": {},
   "source": [
    "1.首先计算类别的信息熵"
   ]
  },
  {
   "cell_type": "markdown",
   "metadata": {},
   "source": [
    "\n",
    "$$info(D)=-\\sum_{i=1}^n{p_i*log_2{p_i}}$$\n"
   ]
  },
  {
   "cell_type": "code",
   "execution_count": 62,
   "metadata": {},
   "outputs": [
    {
     "data": {
      "text/plain": [
       "0.94"
      ]
     },
     "execution_count": 62,
     "metadata": {},
     "output_type": "execute_result"
    }
   ],
   "source": [
    "info = -9/14*np.log2(9/14)-5/14*np.log2(5/14)\n",
    "round(info,3)"
   ]
  },
  {
   "cell_type": "markdown",
   "metadata": {},
   "source": [
    "2.计算每个属性的信息熵"
   ]
  },
  {
   "cell_type": "code",
   "execution_count": 41,
   "metadata": {},
   "outputs": [
    {
     "data": {
      "text/plain": [
       "0.6935361388961918"
      ]
     },
     "execution_count": 41,
     "metadata": {},
     "output_type": "execute_result"
    }
   ],
   "source": [
    "info_tq = 5/14*(-3/5*np.log2(3/5)-2/5*np.log2(2/5))+4/14*(-4/4*np.log2(4/4))+5/14*(-2/5*np.log2(2/5)-3/5*np.log2(3/5))\n",
    "info_tq"
   ]
  },
  {
   "cell_type": "code",
   "execution_count": 54,
   "metadata": {},
   "outputs": [
    {
     "data": {
      "text/plain": [
       "0.8672272759488113"
      ]
     },
     "execution_count": 54,
     "metadata": {},
     "output_type": "execute_result"
    }
   ],
   "source": [
    "info_wd = 4/14*(-1/4*np.log(1/4)-3/4*np.log2(3/4))+4/14*(-2/4*np.log2(2/4)-2/4*np.log2(2/4))+6/14*(-2/6*np.log2(2/6)-4/6*np.log2(4/6))\n",
    "info_wd"
   ]
  },
  {
   "cell_type": "code",
   "execution_count": 60,
   "metadata": {},
   "outputs": [
    {
     "data": {
      "text/plain": [
       "0.7884504573082896"
      ]
     },
     "execution_count": 60,
     "metadata": {},
     "output_type": "execute_result"
    }
   ],
   "source": [
    "info_sd = 7/14*(-1/7*np.log2(1/7)-6/7*np.log2(6/7))+7/14*(-4/7*np.log2(4/7)-3/7*np.log2(3/7))\n",
    "info_sd"
   ]
  },
  {
   "cell_type": "code",
   "execution_count": 61,
   "metadata": {},
   "outputs": [
    {
     "data": {
      "text/plain": [
       "0.8921589282623617"
      ]
     },
     "execution_count": 61,
     "metadata": {},
     "output_type": "execute_result"
    }
   ],
   "source": [
    "info_fs = 8/14*(-2/8*np.log2(2/8)-6/8*np.log2(6/8))+6/14*(-3/6*np.log2(3/6)-3/6*np.log2(3/6))\n",
    "info_fs"
   ]
  },
  {
   "cell_type": "markdown",
   "metadata": {},
   "source": [
    "属性的信息熵越大，表示这个属性中拥有的样本类别越不“纯”"
   ]
  },
  {
   "cell_type": "markdown",
   "metadata": {},
   "source": [
    "3. 计算信息增益"
   ]
  },
  {
   "cell_type": "code",
   "execution_count": 66,
   "metadata": {},
   "outputs": [
    {
     "name": "stdout",
     "output_type": "stream",
     "text": [
      "0.24674981977443933\n",
      "0.07305868272181981\n",
      "0.15183550136234159\n",
      "0.04812703040826949\n"
     ]
    }
   ],
   "source": [
    "print(info-info_tq)\n",
    "print(info-info_wd)\n",
    "print(info-info_sd)\n",
    "print(info-info_fs)"
   ]
  },
  {
   "cell_type": "markdown",
   "metadata": {},
   "source": [
    "如果一个属性的信息增益越大，就表示用这个属性进行样本划分可以更好的减少划分后样本的不确定性，当然，选择该属性就可以更快更好地完成我们的分类目标"
   ]
  },
  {
   "cell_type": "markdown",
   "metadata": {},
   "source": [
    "4.计算属性分裂信息度量"
   ]
  },
  {
   "cell_type": "code",
   "execution_count": 70,
   "metadata": {},
   "outputs": [
    {
     "data": {
      "text/plain": [
       "1.5774062828523454"
      ]
     },
     "execution_count": 70,
     "metadata": {},
     "output_type": "execute_result"
    }
   ],
   "source": [
    "H_tq = -5/14*np.log2(5/14)-5/14*np.log2(5/14)-4/14*np.log2(4/14)\n",
    "H_tq"
   ]
  },
  {
   "cell_type": "code",
   "execution_count": 72,
   "metadata": {},
   "outputs": [
    {
     "data": {
      "text/plain": [
       "1.5566567074628228"
      ]
     },
     "execution_count": 72,
     "metadata": {},
     "output_type": "execute_result"
    }
   ],
   "source": [
    "H_wd = -6/14*np.log2(6/14)-4/14*np.log2(4/14)-4/14*np.log2(4/14)\n",
    "H_wd"
   ]
  },
  {
   "cell_type": "code",
   "execution_count": 74,
   "metadata": {},
   "outputs": [
    {
     "data": {
      "text/plain": [
       "1.0"
      ]
     },
     "execution_count": 74,
     "metadata": {},
     "output_type": "execute_result"
    }
   ],
   "source": [
    "H_sd = -7/14*np.log2(7/14)-7/14*np.log2(7/14)\n",
    "H_sd"
   ]
  },
  {
   "cell_type": "code",
   "execution_count": 76,
   "metadata": {},
   "outputs": [
    {
     "data": {
      "text/plain": [
       "0.9852281360342515"
      ]
     },
     "execution_count": 76,
     "metadata": {},
     "output_type": "execute_result"
    }
   ],
   "source": [
    "H_fs = -8/14*np.log2(8/14)-6/14*np.log2(6/14)\n",
    "H_fs"
   ]
  },
  {
   "cell_type": "markdown",
   "metadata": {},
   "source": [
    "5.计算信息增益率"
   ]
  },
  {
   "cell_type": "markdown",
   "metadata": {},
   "source": [
    "$$\n",
    "信息增益率 = \\frac{信息增益}{属性熵}$$"
   ]
  },
  {
   "cell_type": "code",
   "execution_count": 79,
   "metadata": {},
   "outputs": [
    {
     "data": {
      "text/plain": [
       "0.15642756242117528"
      ]
     },
     "execution_count": 79,
     "metadata": {},
     "output_type": "execute_result"
    }
   ],
   "source": [
    "IGR_tq = (info-info_tq) / H_tq\n",
    "IGR_tq"
   ]
  },
  {
   "cell_type": "code",
   "execution_count": 80,
   "metadata": {},
   "outputs": [
    {
     "data": {
      "text/plain": [
       "0.04693307289370007"
      ]
     },
     "execution_count": 80,
     "metadata": {},
     "output_type": "execute_result"
    }
   ],
   "source": [
    "IGR_wd = (info-info_wd) / H_wd\n",
    "IGR_wd"
   ]
  },
  {
   "cell_type": "code",
   "execution_count": 83,
   "metadata": {},
   "outputs": [
    {
     "data": {
      "text/plain": [
       "0.15183550136234159"
      ]
     },
     "execution_count": 83,
     "metadata": {},
     "output_type": "execute_result"
    }
   ],
   "source": [
    "IGR_sd = (info-info_sd) / H_sd\n",
    "IGR_sd"
   ]
  },
  {
   "cell_type": "code",
   "execution_count": 84,
   "metadata": {},
   "outputs": [
    {
     "data": {
      "text/plain": [
       "0.048848615511520824"
      ]
     },
     "execution_count": 84,
     "metadata": {},
     "output_type": "execute_result"
    }
   ],
   "source": [
    "IGR_fs = (info-info_fs) / H_fs\n",
    "IGR_fs"
   ]
  },
  {
   "cell_type": "markdown",
   "metadata": {},
   "source": [
    "信息增益率越高约好,所以选择tq作为分裂属性"
   ]
  },
  {
   "cell_type": "markdown",
   "metadata": {},
   "source": [
    "在子节点中重复过程1-5"
   ]
  },
  {
   "cell_type": "code",
   "execution_count": 89,
   "metadata": {},
   "outputs": [
    {
     "data": {
      "text/plain": [
       "天气  活动\n",
       "雨   取消    2\n",
       "    进行    3\n",
       "dtype: int64"
      ]
     },
     "execution_count": 89,
     "metadata": {},
     "output_type": "execute_result"
    }
   ],
   "source": [
    "data[data[\"天气\"]=='雨'].groupby([\"天气\",\"活动\"]).size()"
   ]
  },
  {
   "cell_type": "code",
   "execution_count": 90,
   "metadata": {},
   "outputs": [
    {
     "data": {
      "text/plain": [
       "温度  活动\n",
       "寒冷  取消    1\n",
       "    进行    1\n",
       "适中  取消    1\n",
       "    进行    2\n",
       "dtype: int64"
      ]
     },
     "execution_count": 90,
     "metadata": {},
     "output_type": "execute_result"
    }
   ],
   "source": [
    "data[data[\"天气\"]=='雨'].groupby([\"温度\",\"活动\"]).size()"
   ]
  },
  {
   "cell_type": "code",
   "execution_count": 91,
   "metadata": {},
   "outputs": [
    {
     "data": {
      "text/plain": [
       "湿度  活动\n",
       "正常  取消    1\n",
       "    进行    2\n",
       "高   取消    1\n",
       "    进行    1\n",
       "dtype: int64"
      ]
     },
     "execution_count": 91,
     "metadata": {},
     "output_type": "execute_result"
    }
   ],
   "source": [
    "data[data[\"天气\"]=='雨'].groupby([\"湿度\",\"活动\"]).size()"
   ]
  },
  {
   "cell_type": "code",
   "execution_count": 92,
   "metadata": {},
   "outputs": [
    {
     "data": {
      "text/plain": [
       "风速  活动\n",
       "弱   进行    3\n",
       "强   取消    2\n",
       "dtype: int64"
      ]
     },
     "execution_count": 92,
     "metadata": {},
     "output_type": "execute_result"
    }
   ],
   "source": [
    "data[data[\"天气\"]=='雨'].groupby([\"风速\",\"活动\"]).size()"
   ]
  }
 ],
 "metadata": {
  "kernelspec": {
   "display_name": "Python 3",
   "language": "python",
   "name": "python3"
  },
  "language_info": {
   "codemirror_mode": {
    "name": "ipython",
    "version": 3
   },
   "file_extension": ".py",
   "mimetype": "text/x-python",
   "name": "python",
   "nbconvert_exporter": "python",
   "pygments_lexer": "ipython3",
   "version": "3.6.3"
  }
 },
 "nbformat": 4,
 "nbformat_minor": 2
}
